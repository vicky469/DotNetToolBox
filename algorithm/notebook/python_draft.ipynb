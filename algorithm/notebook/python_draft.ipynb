{
 "cells": [
  {
   "cell_type": "code",
   "execution_count": 14,
   "metadata": {
    "dotnet_interactive": {
     "language": "csharp"
    },
    "polyglot_notebook": {
     "kernelName": "csharp"
    }
   },
   "outputs": [
    {
     "name": "stdout",
     "output_type": "stream",
     "text": [
      "../src\n",
      "=======   Process all files in the directory: ../src   ========\n",
      "😎 Finished Leetcode Questions: 73\n",
      "Flatten Binary Tree To Linked List\n",
      "Contains Duplicate\n",
      "Remove Element\n",
      "Find The Index Of The First Occurrence In AString\n",
      "Gas Station\n",
      "Pre Order\n",
      "Merge Sorted Array\n",
      "Path Sum\n",
      "Construct\n",
      "Remove Duplicates From Sorted Array\n",
      "Trapping Rain Water\n",
      "Inorder\n",
      "Intersection Of Two Arrays\n",
      "Valid Parentheses\n",
      "Valid Palindrome\n",
      "Minimum Swaps To Group All1s\n",
      "Group Anagrams\n",
      "Majority Element\n",
      "Construct Binary Tree From Inorder And Postorder Traversal\n",
      "Symmetric Tree\n",
      "Zigzag Conversion\n",
      "Rotate Array\n",
      "Maximum Size Of ASet After Removals\n",
      "H-Index\n",
      "Climbing Stairs\n",
      "Fibonacci Number\n",
      "Form Smallest Number From Two Digit Arrays\n",
      "Reverse Words Ina String\n",
      "Product Of Array Except Self\n",
      "Populating Next Right Pointers In Each Node II\n",
      "Product Of Array Except Self\n",
      "Jump Game\n",
      "Find Min Time To Finish All Jobs II\n",
      "Flatten Binary Tree To Linked List\n",
      "Majority Element\n",
      "Same Tree\n",
      "Valid Parentheses\n",
      "Candy\n",
      "Candy\n",
      "Maximum Size Of ASet After Removals\n",
      "Roman To Integer\n",
      "Zigzag Conversion\n",
      "Power Of Two\n",
      "Roman To Integer\n",
      "Container With Most Water\n",
      "Valid Anagram\n",
      "Invert Binary Tree\n",
      "Best Time To Buy And Sell Stock\n",
      "Frequency Tracker\n",
      "Same Tree\n",
      "Symmetric Tree\n",
      "Gas Station\n",
      "Minimum Number Game\n",
      "Populating Next Right Pointers In Each Node II\n",
      "Rotate Array\n",
      "Jump Game II\n",
      "Integer To Roman\n",
      "Longest Common Prefix\n",
      "Maximum Sum Of Distinct Subarrays With Length K \n",
      "Greatest Common Divisor Of Strings\n",
      "Post Order\n",
      "Level Order\n",
      "Move Zeroes\n",
      "Area Of Max Diagonal\n",
      "Unique Numberof Occurrences\n",
      "Is Palindrome\n",
      "Top KFrequent Elements\n",
      "Insert Delete Get Random\n",
      "Remove Duplicates From Sorted Array II\n",
      "Integer To Roman\n",
      "Construct Binary Tree From Preorder And Inorder Traversal\n",
      "Maximum Depth Of Binary Tree\n",
      "Best Time To Buy And Sell Stock II\n"
     ]
    }
   ],
   "source": [
    "import os\n",
    "import re\n",
    "\n",
    "# Specify the path to folder\n",
    "src_folder_path = os.path.expanduser(\"../src\")\n",
    "print(src_folder_path)\n",
    "\n",
    "def process_directory(directory_path):\n",
    "    print(f\"=======   Process all files in the directory: {src_folder_path}   ========\")\n",
    "    unique_filenames = set()\n",
    "    for files in os.walk(directory_path):\n",
    "        for file in files:\n",
    "            # Remove the file extension\n",
    "            filename_without_extension = os.path.splitext(file)[0]\n",
    "            # Check if the filename ends with a digit\n",
    "            if re.search(r'\\d$', filename_without_extension):\n",
    "                unique_filenames.add(file)\n",
    "    return unique_filenames\n",
    "\n",
    "\n",
    "# Call the function to process the SRC folder recursively\n",
    "unique_filenames = process_directory(src_folder_path)\n",
    "\n",
    "print(f\"😎 Finished LeetCode Questions: {len(unique_filenames)}\")\n",
    "for filename in unique_filenames:\n",
    "    # print(filename)\n",
    "    # Remove the trailing _94.cs\n",
    "    filename = filename.split('_')[0]\n",
    "\n",
    "    # Separate words\n",
    "    filename = re.sub(r'(?<=[a-z])(?=[A-Z])', ' ', filename)\n",
    "\n",
    "    print(filename)"
   ]
  }
 ],
 "metadata": {
  "kernelspec": {
   "display_name": "Python 3",
   "language": "python",
   "name": "python3"
  },
  "language_info": {
   "codemirror_mode": {
    "name": "ipython",
    "version": 3
   },
   "file_extension": ".py",
   "mimetype": "text/x-python",
   "name": "python",
   "nbconvert_exporter": "python",
   "pygments_lexer": "ipython3",
   "version": "3.12.0"
  },
  "polyglot_notebook": {
   "kernelInfo": {
    "defaultKernelName": "csharp",
    "items": [
     {
      "aliases": [],
      "languageName": "csharp",
      "name": "csharp"
     }
    ]
   }
  }
 },
 "nbformat": 4,
 "nbformat_minor": 2
}

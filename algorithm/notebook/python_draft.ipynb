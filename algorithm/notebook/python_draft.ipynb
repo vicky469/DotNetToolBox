{
 "cells": [
  {
   "cell_type": "code",
   "execution_count": 23,
   "metadata": {
    "dotnet_interactive": {
     "language": "csharp"
    },
    "polyglot_notebook": {
     "kernelName": "csharp"
    }
   },
   "outputs": [
    {
     "name": "stdout",
     "output_type": "stream",
     "text": [
      "../src\n",
      "=======   Process all files in the directory: ../src   ========\n",
      "😎 Finished LeetCode Questions: 59\n",
      "Contains Duplicate\n",
      "Integer To Roman\n",
      "Power Of Two\n",
      "Climbing Stairs\n",
      "H-Index\n",
      "Unique Numberof Occurrences\n",
      "Top KFrequent Elements\n",
      "Trapping Rain Water\n",
      "Inorder\n",
      "Construct Binary Tree From Inorder And Postorder Traversal\n",
      "Zigzag Conversion\n",
      "Minimum Swaps To Group All1s\n",
      "Gas Station\n",
      "Best Time To Buy And Sell Stock II\n",
      "Fibonacci Number\n",
      "Majority Element\n",
      "Remove Duplicates From Sorted Array\n",
      "Maximum Depth Of Binary Tree\n",
      "Find The Index Of The First Occurrence In AString\n",
      "Jump Game\n",
      "Group Anagrams\n",
      "Find Min Time To Finish All Jobs II\n",
      "Valid Palindrome\n",
      "Rotate Array\n",
      "Greatest Common Divisor Of Strings\n",
      "Form Smallest Number From Two Digit Arrays\n",
      "Symmetric Tree\n",
      "Candy\n",
      "Remove Element\n",
      "Minimum Number Game\n",
      "Intersection Of Two Arrays\n",
      "Is Palindrome\n",
      "Remove Duplicates From Sorted Array II\n",
      "Frequency Tracker\n",
      "Move Zeroes\n",
      "Longest Common Prefix\n",
      "Reverse Words Ina String\n",
      "Populating Next Right Pointers In Each Node II\n",
      "Flatten Binary Tree To Linked List\n",
      "Maximum Sum Of Distinct Subarrays With Length K \n",
      "Best Time To Buy And Sell Stock\n",
      "Jump Game II\n",
      "Construct\n",
      "Post Order\n",
      "Level Order\n",
      "Valid Anagram\n",
      "Area Of Max Diagonal\n",
      "Product Of Array Except Self\n",
      "Roman To Integer\n",
      "Pre Order\n",
      "Path Sum\n",
      "Merge Sorted Array\n",
      "Container With Most Water\n",
      "Valid Parentheses\n",
      "Same Tree\n",
      "Invert Binary Tree\n",
      "Insert Delete Get Random\n",
      "Construct Binary Tree From Preorder And Inorder Traversal\n",
      "Maximum Size Of ASet After Removals\n"
     ]
    }
   ],
   "source": [
    "import os\n",
    "import re\n",
    "\n",
    "# Specify the path to folder\n",
    "src_folder_path = os.path.expanduser(\"../src\")\n",
    "print(src_folder_path)\n",
    "\n",
    "def process_directory(directory_path):\n",
    "    print(f\"=======   Process all files in the directory: {src_folder_path}   ========\")\n",
    "    unique_filenames = set()\n",
    "    for root, dirs, files in os.walk(directory_path):\n",
    "        for file in files:\n",
    "            \n",
    "            filename_without_extension = os.path.splitext(file)[0]\n",
    "            # Check if the filename ends with a digit\n",
    "            if re.search(r'\\d$', filename_without_extension):\n",
    "                # Remove the trailing _94.cs\n",
    "                filename = filename_without_extension.split('_')[0]\n",
    "                # Separate words\n",
    "                filename = re.sub(r'(?<=[a-z])(?=[A-Z])', ' ', filename)\n",
    "                unique_filenames.add(filename)\n",
    "    return unique_filenames\n",
    "\n",
    "\n",
    "# Call the function\n",
    "unique_filenames = process_directory(src_folder_path)\n",
    "\n",
    "print(f\"😎 Finished LeetCode Questions: {len(unique_filenames)}\")\n",
    "for filename in unique_filenames:\n",
    "    print(filename)"
   ]
  }
 ],
 "metadata": {
  "kernelspec": {
   "display_name": "Python 3",
   "language": "python",
   "name": "python3"
  },
  "language_info": {
   "codemirror_mode": {
    "name": "ipython",
    "version": 3
   },
   "file_extension": ".py",
   "mimetype": "text/x-python",
   "name": "python",
   "nbconvert_exporter": "python",
   "pygments_lexer": "ipython3",
   "version": "3.12.0"
  },
  "polyglot_notebook": {
   "kernelInfo": {
    "defaultKernelName": "csharp",
    "items": [
     {
      "aliases": [],
      "languageName": "csharp",
      "name": "csharp"
     }
    ]
   }
  }
 },
 "nbformat": 4,
 "nbformat_minor": 2
}

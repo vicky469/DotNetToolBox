{
 "cells": [
  {
   "cell_type": "code",
   "execution_count": 3,
   "metadata": {
    "dotnet_interactive": {
     "language": "csharp"
    },
    "polyglot_notebook": {
     "kernelName": "csharp"
    },
    "vscode": {
     "languageId": "polyglot-notebook"
    }
   },
   "outputs": [
    {
     "name": "stdout",
     "output_type": "stream",
     "text": [
      "9\n",
      "2\n",
      "0\n"
     ]
    }
   ],
   "source": [
    "// get the last digit of a number\n",
    "var num = 19;\n",
    "var num2 = 2;\n",
    "var num3 = 120;\n",
    "\n",
    "Console.WriteLine(num%10);\n",
    "Console.WriteLine(num2%10);\n",
    "Console.WriteLine(num3%10);"
   ]
  },
  {
   "cell_type": "code",
   "execution_count": 4,
   "metadata": {
    "vscode": {
     "languageId": "polyglot-notebook"
    }
   },
   "outputs": [
    {
     "name": "stdout",
     "output_type": "stream",
     "text": [
      "1\n",
      "0\n",
      "12\n"
     ]
    }
   ],
   "source": [
    "// remove last digit\n",
    "Console.WriteLine(num/10);\n",
    "Console.WriteLine(num2/10);\n",
    "Console.WriteLine(num3/10);"
   ]
  },
  {
   "cell_type": "markdown",
   "metadata": {},
   "source": []
  }
 ],
 "metadata": {
  "kernelspec": {
   "display_name": ".NET (C#)",
   "language": "C#",
   "name": ".net-csharp"
  },
  "language_info": {
   "name": "python"
  },
  "polyglot_notebook": {
   "kernelInfo": {
    "defaultKernelName": "csharp",
    "items": [
     {
      "aliases": [],
      "name": "csharp"
     }
    ]
   }
  }
 },
 "nbformat": 4,
 "nbformat_minor": 2
}

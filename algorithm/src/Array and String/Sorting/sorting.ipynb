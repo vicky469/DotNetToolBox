{
 "cells": [
  {
   "cell_type": "markdown",
   "metadata": {},
   "source": [
    "### Sorting in Javascript\n",
    "\n",
    "Q: How does the comparison function sort(a, b) => a - b sort work?\n",
    "- If a - b is negative, it means that a is less than b , so a should come before b in the sorted order.\n",
    "- If a - b is positive, it means that a is greater than b , so a should come after b in the sorted order.\n",
    "\n",
    "ref: https://www.reddit.com/r/learnjavascript/comments/17ll4eh/js_sort_compare_function/"
   ]
  },
  {
   "cell_type": "code",
   "execution_count": 10,
   "metadata": {
    "dotnet_interactive": {
     "language": "javascript"
    },
    "polyglot_notebook": {
     "kernelName": "javascript"
    },
    "vscode": {
     "languageId": "polyglot-notebook"
    }
   },
   "outputs": [
    {
     "data": {
      "application/json": [
       1,
       2,
       3,
       4,
       5
      ]
     },
     "metadata": {},
     "output_type": "display_data"
    }
   ],
   "source": [
    "const arr = [4, 2, 5, 3, 1];\n",
    "\n",
    "function compare(a, b) {\n",
    "  return a - b; //asc\n",
    "}\n",
    "\n",
    "arr.sort(compare);\n",
    "console.log(arr); // [1, 2, 3, 4, 5]"
   ]
  },
  {
   "cell_type": "code",
   "execution_count": 11,
   "metadata": {
    "dotnet_interactive": {
     "language": "javascript"
    },
    "polyglot_notebook": {
     "kernelName": "javascript"
    },
    "vscode": {
     "languageId": "polyglot-notebook"
    }
   },
   "outputs": [
    {
     "data": {
      "application/json": [
       5,
       4,
       3,
       2,
       1
      ]
     },
     "metadata": {},
     "output_type": "display_data"
    }
   ],
   "source": [
    "const arr = [4, 2, 5, 3, 1];\n",
    "\n",
    "function compare(a, b) {\n",
    "  return b-a; //desc\n",
    "}\n",
    "\n",
    "arr.sort(compare);\n",
    "console.log(arr); // [5, 4, 3, 2, 1]"
   ]
  },
  {
   "cell_type": "markdown",
   "metadata": {},
   "source": [
    "### Sort in C#"
   ]
  },
  {
   "cell_type": "code",
   "execution_count": 9,
   "metadata": {
    "vscode": {
     "languageId": "polyglot-notebook"
    }
   },
   "outputs": [
    {
     "name": "stdout",
     "output_type": "stream",
     "text": [
      "[1, 3], [2, 6], [8, 10], [15, 18]\n"
     ]
    }
   ],
   "source": [
    "// in-place\n",
    "var intervals =  new int[][]{new int[]{2,6}, new int[]{1,3}, new int[]{15,18},new int[]{8,10}};\n",
    "Array.Sort(intervals, (a, b) => a[0]- b[0]);\n",
    "Console.WriteLine(string.Join(\", \", intervals.Select(x => $\"[{x[0]}, {x[1]}]\")));"
   ]
  },
  {
   "cell_type": "code",
   "execution_count": 5,
   "metadata": {
    "vscode": {
     "languageId": "polyglot-notebook"
    }
   },
   "outputs": [
    {
     "name": "stdout",
     "output_type": "stream",
     "text": [
      "[1, 3], [2, 6], [8, 10], [15, 18]\n"
     ]
    }
   ],
   "source": [
    "// Use linq, not in-place\n",
    "var intervals =  new int[][]{new int[]{2,6}, new int[]{1,3}, new int[]{15,18},new int[]{8,10}};\n",
    "intervals = intervals.OrderBy(x => x[0]).ToArray(); // Not in-place, it will create a new array with the sorted values and assign it back to intervals\n",
    "Console.WriteLine(string.Join(\", \", intervals.Select(x => $\"[{x[0]}, {x[1]}]\")));"
   ]
  },
  {
   "cell_type": "code",
   "execution_count": 12,
   "metadata": {
    "vscode": {
     "languageId": "polyglot-notebook"
    }
   },
   "outputs": [
    {
     "name": "stdout",
     "output_type": "stream",
     "text": [
      "John Doe (30)\n",
      "Bob Johnson (35)\n",
      "Alice Smith (25)\n"
     ]
    }
   ],
   "source": [
    "class Person\n",
    "{\n",
    "    public string FirstName { get; set; }\n",
    "    public string LastName { get; set; }\n",
    "    public int Age { get; set; }\n",
    "}\n",
    "List<Person> people = new List<Person>\n",
    "        {\n",
    "            new Person { FirstName = \"John\", LastName = \"Doe\", Age = 30 },\n",
    "            new Person { FirstName = \"Alice\", LastName = \"Smith\", Age = 25 },\n",
    "            new Person { FirstName = \"Bob\", LastName = \"Johnson\", Age = 35 }\n",
    "        };\n",
    "\n",
    "var sortedPeopleByName = people.OrderBy(person => person.LastName, StringComparer.OrdinalIgnoreCase);\n",
    "foreach (var person in sortedPeopleByName)\n",
    "{\n",
    "    Console.WriteLine($\"{person.FirstName} {person.LastName} ({person.Age})\");\n",
    "}"
   ]
  }
 ],
 "metadata": {
  "kernelspec": {
   "display_name": ".NET (C#)",
   "language": "C#",
   "name": ".net-csharp"
  },
  "language_info": {
   "codemirror_mode": "typescript",
   "file_extension": ".ts",
   "mimetype": "text/x.typescript",
   "name": "typescript",
   "nbconvert_exporter": "script",
   "pygments_lexer": "typescript",
   "version": "5.4.5"
  },
  "polyglot_notebook": {
   "kernelInfo": {
    "defaultKernelName": "csharp",
    "items": [
     {
      "aliases": [],
      "name": "csharp"
     }
    ]
   }
  }
 },
 "nbformat": 4,
 "nbformat_minor": 2
}

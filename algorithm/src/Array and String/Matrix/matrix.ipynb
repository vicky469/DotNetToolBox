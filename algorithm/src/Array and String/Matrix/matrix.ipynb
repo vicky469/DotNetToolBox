{
 "cells": [
  {
   "cell_type": "markdown",
   "metadata": {},
   "source": [
    "### 2D Array Implementation\n",
    "<img src=\"https://i.gyazo.com/1648556487b2e89fd003356cf4c6c96f.png\" width=\"300\" height=\"200\">\n",
    "Ref: https://www.cs.cmu.edu/~mrmiller/15-110/Handouts/arrays2D.pdf"
   ]
  },
  {
   "cell_type": "code",
   "execution_count": 18,
   "metadata": {
    "dotnet_interactive": {
     "language": "csharp"
    },
    "polyglot_notebook": {
     "kernelName": "csharp"
    },
    "vscode": {
     "languageId": "polyglot-notebook"
    }
   },
   "outputs": [],
   "source": [
    "int[][] matrix = new int[][]{\n",
    "    new int[] {1,2,3},\n",
    "    new int[] {4,5,6}\n",
    "};\n"
   ]
  },
  {
   "cell_type": "code",
   "execution_count": 19,
   "metadata": {
    "vscode": {
     "languageId": "polyglot-notebook"
    }
   },
   "outputs": [
    {
     "name": "stdout",
     "output_type": "stream",
     "text": [
      "i:0   j:0   num:1\n",
      "i:0   j:1   num:2\n",
      "i:0   j:2   num:3\n",
      "i:1   j:0   num:4\n",
      "i:1   j:1   num:5\n",
      "i:1   j:2   num:6\n"
     ]
    }
   ],
   "source": [
    "// read by row\n",
    "for(int i = 0; i < matrix.Length; i++) {\n",
    "    for(int j = 0; j < matrix[i].Length; j++) {\n",
    "        Console.WriteLine($\"i:{i}   j:{j}   num:{matrix[i][j]}\");\n",
    "    }\n",
    "}"
   ]
  },
  {
   "cell_type": "markdown",
   "metadata": {},
   "source": [
    "<img src=\"https://i.gyazo.com/2b3b761240f964f729d644207006a102.png\" width=\"210\" height=\"200\">"
   ]
  },
  {
   "cell_type": "code",
   "execution_count": 20,
   "metadata": {
    "vscode": {
     "languageId": "polyglot-notebook"
    }
   },
   "outputs": [
    {
     "name": "stdout",
     "output_type": "stream",
     "text": [
      "j:0   i:0   num:1\n",
      "j:1   i:0   num:4\n",
      "j:0   i:1   num:2\n",
      "j:1   i:1   num:5\n",
      "j:0   i:2   num:3\n",
      "j:1   i:2   num:6\n"
     ]
    }
   ],
   "source": [
    "// read by col\n",
    "for(int i = 0; i < matrix[0].Length; i++) {\n",
    "    for(int j = 0; j < matrix.Length; j++) {\n",
    "        Console.WriteLine($\"j:{j}   i:{i}   num:{matrix[j][i]}\");\n",
    "    }\n",
    "}"
   ]
  },
  {
   "cell_type": "markdown",
   "metadata": {},
   "source": [
    "<img src=\"https://i.gyazo.com/64a67f6a3fc56a9a657afaa6532cd469.png\" width=\"210\" height=\"200\">"
   ]
  }
 ],
 "metadata": {
  "kernelspec": {
   "display_name": ".NET (C#)",
   "language": "C#",
   "name": ".net-csharp"
  },
  "language_info": {
   "name": "python"
  },
  "polyglot_notebook": {
   "kernelInfo": {
    "defaultKernelName": "csharp",
    "items": [
     {
      "aliases": [],
      "name": "csharp"
     }
    ]
   }
  }
 },
 "nbformat": 4,
 "nbformat_minor": 2
}

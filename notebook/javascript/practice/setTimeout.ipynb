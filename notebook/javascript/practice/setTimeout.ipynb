{
 "cells": [
  {
   "cell_type": "markdown",
   "metadata": {},
   "source": [
    "### Ask:  Log three messages to JavaScript’s console, with a delay of one second between each one."
   ]
  },
  {
   "cell_type": "code",
   "execution_count": 5,
   "metadata": {},
   "outputs": [
    {
     "name": "stdout",
     "output_type": "stream",
     "text": [
      "Delayed print: 3\n"
     ]
    }
   ],
   "source": [
    "// wrong solution\n",
    "function delayedPrint(number, delay) {\n",
    "    setTimeout(() => {\n",
    "        console.log(`Delayed print: ${number}`);\n",
    "    }, delay);\n",
    "}\n",
    "\n",
    "function newFunction() {\n",
    "    for (let i = 1; i <= 3; i++) {\n",
    "        console.log(`Before delayed print: ${i}`);\n",
    "        delayedPrint(i, i * 1000);\n",
    "        console.log(`Continue to run without blocking`);\n",
    "    }\n",
    "}\n",
    "\n",
    "newFunction();\n",
    "\n",
    "// Before delayed print: 1\n",
    "// Continue to run without blocking\n",
    "// Before delayed print: 2\n",
    "// Continue to run without blocking\n",
    "// Before delayed print: 3\n",
    "// Continue to run without blocking\n",
    "// Delayed print: 1\n",
    "// Delayed print: 2\n",
    "// Delayed print: 3"
   ]
  },
  {
   "cell_type": "code",
   "execution_count": null,
   "metadata": {},
   "outputs": [],
   "source": [
    "// correct solution\n",
    "function delayedPrint(number, delay) {\n",
    "    return new Promise((resolve) => {\n",
    "        setTimeout(() => {\n",
    "            console.log(`Delayed print: ${number}`);\n",
    "            resolve();\n",
    "        }, delay);\n",
    "    });\n",
    "}\n",
    "\n",
    "async function newFunction() {\n",
    "    for (let i = 1; i <= 3; i++) {\n",
    "        console.log(`Before delayed print: ${i}`);\n",
    "        await delayedPrint(i, i * 3000);\n",
    "        console.log(`After delayed print: ${i}`);\n",
    "    }\n",
    "}\n",
    "\n",
    "newFunction();\n",
    "\n",
    "// Before delayed print: 1\n",
    "// Delayed print: 1\n",
    "// After delayed print: 1\n",
    "// Before delayed print: 2\n",
    "// Delayed print: 2\n",
    "// After delayed print: 2\n",
    "// Before delayed print: 3\n",
    "// Delayed print: 3\n",
    "// After delayed print: 3"
   ]
  },
  {
   "cell_type": "markdown",
   "metadata": {},
   "source": [
    "### How to Write a Sleep Function in JavaScript?"
   ]
  },
  {
   "cell_type": "markdown",
   "metadata": {},
   "source": [
    "Ref:\n",
    "- https://builtin.com/software-engineering-perspectives/javascript-sleep\n",
    "- https://www.greatfrontend.com/questions/javascript/sleep?list=async-operations"
   ]
  },
  {
   "cell_type": "code",
   "execution_count": null,
   "metadata": {},
   "outputs": [],
   "source": []
  }
 ],
 "metadata": {
  "kernelspec": {
   "display_name": "Deno",
   "language": "typescript",
   "name": "deno"
  },
  "language_info": {
   "codemirror_mode": "typescript",
   "file_extension": ".ts",
   "mimetype": "text/x.typescript",
   "name": "typescript",
   "nbconvert_exporter": "script",
   "pygments_lexer": "typescript",
   "version": "5.4.5"
  }
 },
 "nbformat": 4,
 "nbformat_minor": 2
}

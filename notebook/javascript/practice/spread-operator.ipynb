{
 "cells": [
  {
   "cell_type": "markdown",
   "metadata": {},
   "source": [
    "### Spread operator\n",
    "used to spread out array items."
   ]
  },
  {
   "cell_type": "markdown",
   "metadata": {},
   "source": [
    "#### When to use\n",
    "\n",
    "1. To create copies of arrays or objects\n",
    "2. To merge arrays or objects\n",
    "3. To pass an array to a function that expects separate arguments"
   ]
  },
  {
   "cell_type": "code",
   "execution_count": 3,
   "metadata": {},
   "outputs": [
    {
     "name": "stdout",
     "output_type": "stream",
     "text": [
      "[ 1, 2, 3 ]\n"
     ]
    }
   ],
   "source": [
    "// 1. To create copies of arrays or objects\n",
    "let arr1 = [1,2,3];\n",
    "let arr2 = [...arr1];\n",
    "console.log(arr2);"
   ]
  },
  {
   "cell_type": "code",
   "execution_count": 5,
   "metadata": {},
   "outputs": [
    {
     "name": "stdout",
     "output_type": "stream",
     "text": [
      "[ 1, 2, 3, 4, 5, 6 ]\n"
     ]
    }
   ],
   "source": [
    "// 2. To merge arrays or objects\n",
    "let arr3 = [4, 5, 6];\n",
    "let merged = [...arr1, ...arr3];\n",
    "console.log(merged);"
   ]
  },
  {
   "cell_type": "code",
   "execution_count": 6,
   "metadata": {},
   "outputs": [
    {
     "name": "stdout",
     "output_type": "stream",
     "text": [
      "6\n"
     ]
    }
   ],
   "source": [
    "// 3. To pass an array to a function that expects separate arguments\n",
    "function add(a, b, c) {\n",
    "    return a + b + c;\n",
    "}\n",
    "\n",
    "let numbers = [1, 2, 3];\n",
    "console.log(add(...numbers));"
   ]
  },
  {
   "cell_type": "markdown",
   "metadata": {},
   "source": [
    "#### When NOT to use\n",
    "\n",
    "1. When you want to make deep copies:   \n",
    "    - The spread operator only makes a shallow copy of the object or array.\n",
    "    - The top level elements are copied.\n",
    "    - But if the object or array contains other objects or arrays, those are not copied, but are shared between the original and the copy using same references. Meaning if we modify a nested object or array in the original, the changes will be reflected in the copy, and vice versa.\n",
    "\n",
    "2. When performance is a concern:   \n",
    "The spread operator can be slower than other methods of copying or merging arrays, especially for large arrays.\n",
    "\n",
    "3. When the order of properties matters:   \n",
    "When spreading objects, there's no guarantee about the order of properties in the resulting object. If the order of properties matters, you might not want to use the spread operator."
   ]
  },
  {
   "cell_type": "code",
   "execution_count": 15,
   "metadata": {},
   "outputs": [
    {
     "name": "stdout",
     "output_type": "stream",
     "text": [
      "{ a: 1, b: [ 2, 3, 4 ], c: { d: 5 } }\n"
     ]
    }
   ],
   "source": [
    "// 1. Shallow copy\n",
    "\n",
    "let original = {\n",
    "    a: 1,\n",
    "    b: [2, 3, 4],\n",
    "    c: {\n",
    "        d: 5\n",
    "    }\n",
    "};\n",
    "\n",
    "let copy = {...original};\n",
    "\n",
    "console.log(copy);  // { a: 1, b: [ 2, 3, 4 ], c: { d: 5 } }\n",
    "\n"
   ]
  },
  {
   "cell_type": "code",
   "execution_count": 18,
   "metadata": {},
   "outputs": [
    {
     "name": "stdout",
     "output_type": "stream",
     "text": [
      "{ a: 10, b: [ 2, 3, 4, 5 ], c: { d: 6 } }\n"
     ]
    }
   ],
   "source": [
    "\n",
    "// Modify the original\n",
    "original.a = 10;\n",
    "original.b.push(5);\n",
    "original.c.d = 6;\n",
    "console.log(original);  // { a: 10, b: [ 2, 3, 4, 5 ], c: { d: 6 } }"
   ]
  },
  {
   "cell_type": "code",
   "execution_count": 19,
   "metadata": {},
   "outputs": [
    {
     "name": "stdout",
     "output_type": "stream",
     "text": [
      "{ a: 1, b: [ 2, 3, 4, 5 ], c: { d: 6 } }\n"
     ]
    }
   ],
   "source": [
    "console.log(copy);  // { a: 1, b: [ 2, 3, 4, 5 ], c: { d: 6 } }"
   ]
  },
  {
   "cell_type": "code",
   "execution_count": 22,
   "metadata": {},
   "outputs": [
    {
     "name": "stdout",
     "output_type": "stream",
     "text": [
      "{ a: 10, b: [ 2, 3, 4, 5, 6, 6 ], c: { d: 7 } }\n"
     ]
    }
   ],
   "source": [
    "// Modify the copy\n",
    "// However, the b and c properties are shared between original and copy, \n",
    "// so changes to these properties in one object are reflected in the other.\n",
    "copy.a = 20;\n",
    "copy.b.push(6);\n",
    "copy.c.d = 7;\n",
    "\n",
    "console.log(original);  // { a: 10, b: [ 2, 3, 4, 5, 6 ], c: { d: 7 } }"
   ]
  },
  {
   "cell_type": "code",
   "execution_count": 23,
   "metadata": {},
   "outputs": [
    {
     "name": "stdout",
     "output_type": "stream",
     "text": [
      "{ a: 20, b: [ 2, 3, 4, 5, 6, 6 ], c: { d: 7 } }\n"
     ]
    }
   ],
   "source": [
    "console.log(copy);  // { a: 20, b: [ 2, 3, 4, 5, 6 ], c: { d: 7 } }"
   ]
  }
 ],
 "metadata": {
  "kernelspec": {
   "display_name": "Deno",
   "language": "typescript",
   "name": "deno"
  },
  "language_info": {
   "codemirror_mode": "typescript",
   "file_extension": ".ts",
   "mimetype": "text/x.typescript",
   "name": "typescript",
   "nbconvert_exporter": "script",
   "pygments_lexer": "typescript",
   "version": "5.4.5"
  }
 },
 "nbformat": 4,
 "nbformat_minor": 2
}

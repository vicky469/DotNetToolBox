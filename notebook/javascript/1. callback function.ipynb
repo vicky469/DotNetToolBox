{
 "cells": [
  {
   "cell_type": "markdown",
   "metadata": {},
   "source": [
    "# Callback Function\n",
    "- Pass a function as an argument.\n",
    "- The callback is not called by us, but by the object that experienced the event.\n",
    "- Synchronous vs Asynchronous callbacks \n",
    "\n",
    "//HTML  \n",
    "<button class=\"btn\">Click Me</button>\n",
    "\n",
    "// Javascript  \n",
    "- select the first HTML element with the class name btn from the DOM  \n",
    "- '.btn' is a CSS selector that matches any element with the class btn  \n",
    "```\n",
    "const btn = document.querySelector('.btn'); \n",
    "```\n",
    "\n",
    "- set up the function (addEventListener) to the target object (btn) cause we want to manipulate the button.  \n",
    "- once the click event happened - whenever a user clicks on the `btn` element, then the arrow function (callback) will be executed.  \n",
    "```\n",
    "btn.addEventListener('click', () => {\n",
    "  let name = 'John doe';\n",
    "  console.log(name.toUpperCase())\n",
    "})\n",
    "```\n"
   ]
  },
  {
   "cell_type": "code",
   "execution_count": null,
   "metadata": {
    "dotnet_interactive": {
     "language": "javascript"
    },
    "polyglot_notebook": {
     "kernelName": "javascript"
    }
   },
   "outputs": [],
   "source": [
    "function sayHello() {\n",
    "  return \"Hello, \";\n",
    "}\n",
    "function greeting(helloMessage, name) {\n",
    "                // ^^ pass a function as an argument\n",
    "            \n",
    "  console.log(helloMessage() + name);\n",
    "}\n",
    "\n",
    "greeting(sayHello, \"JavaScript!\");\n",
    "//       ^ a reference to the function, not a call to the function, so no parentheses\n",
    "// In JavaScript, when you define a function using the function keyword, the function name is actually a variable that's assigned to the function\n"
   ]
  },
  {
   "cell_type": "markdown",
   "metadata": {},
   "source": [
    "## Synchronous vs Asynchronous Callback"
   ]
  },
  {
   "cell_type": "code",
   "execution_count": 38,
   "metadata": {},
   "outputs": [
    {
     "data": {
      "text/plain": [
       "\u001b[33m38\u001b[39m"
      ]
     },
     "execution_count": 38,
     "metadata": {},
     "output_type": "execute_result"
    }
   ],
   "source": [
    "// Synchronous Callback\n",
    "console.log(\"Synchronous Callback:\");\n",
    "const numbers = [1, 2, 3];\n",
    "numbers.forEach(function(number) {\n",
    "  console.log(number * 2);\n",
    "});\n",
    "\n",
    "// Asynchronous Callback\n",
    "console.log(\"\\nAsynchronous Callback:\");\n",
    "setTimeout(function() {\n",
    "  console.log(\"This message is shown after 2 seconds\");\n",
    "}, 2000);"
   ]
  },
  {
   "cell_type": "markdown",
   "metadata": {},
   "source": [
    "### More on Asynchronous Callback:\n",
    "\n",
    "JavaScript is single-threaded, which means it can only do one thing at a time. However, it uses an event-driven, non-blocking I/O model, which makes it very efficient for certain types of tasks.\n",
    "\n",
    "When you make a network request using fetch or XMLHttpRequest, the request is sent off, and then the rest of your code continues to run without waiting for the response. This is the \"non-blocking\" part. Your program doesn't \"block\" or stop to wait for the network request to complete.\n",
    "\n",
    "When the response to the network request is finally received, the callback you provided is added to a queue of tasks to be executed. This is the \"event-driven\" part. The JavaScript runtime environment has an event loop that constantly checks this queue and executes the tasks on it one by one.\n",
    "\n",
    "So while the callback is waiting in the queue and then being executed, the rest of your code can continue to run. This means that the user interface remains responsive and the user can continue to interact with it."
   ]
  },
  {
   "cell_type": "markdown",
   "metadata": {},
   "source": [
    "### Asynchronous Callbacks Common Use Cases\n",
    "1. Network requests  \n",
    "\n",
    "    // once the data is received, the rest of the code will be executing\n",
    "  ```\n",
    "  fetch('https://api.example.com/data')\n",
    "    .then(response => response.json())\n",
    "    .then(data => console.log(data))\n",
    "  ```\n",
    "\n",
    "2.  File I/O\n",
    "\n",
    "3. Timers: Functions like `setTimeout` and `setInterval`\n",
    "\n",
    "4. Event Listeners"
   ]
  },
  {
   "cell_type": "markdown",
   "metadata": {},
   "source": [
    "## Callback Hell\n",
    "Solution to prevent callback hell is to use `Promises`.\n",
    "###  Problem 1 Readability\n",
    "```\n",
    "setTimeout(() => { // Simon says to wait 2 seconds\n",
    "    console.log(\"Joel\"); // Joel does his action\n",
    "    setTimeout(() => { // Simon says to wait 2 seconds\n",
    "        console.log(\"Victoria\"); // Victoria does her action\n",
    "        setTimeout(() => { // Simon says to wait 2 seconds\n",
    "            console.log(\"John\"); // John does his action\n",
    "            setTimeout(() => { // Simon says to wait 2 seconds\n",
    "                console.log(\"Doe\"); // Doe does his action\n",
    "                setTimeout(() => { // Simon says to wait 2 seconds\n",
    "                    console.log(\"Sarah\"); // Sarah does her action\n",
    "                }, 2000);\n",
    "            }, 2000);\n",
    "        }, 2000);\n",
    "    }, 2000);\n",
    "}, 2000);\n",
    "```\n",
    "\n",
    "Imagine you're playing a game of \"Simon Says\" with your friends Joel, Victoria, John, Doe, and Sarah. Simon gives each of your friends a turn to do a fun action, but there's a rule: each friend has to wait 2 seconds after the previous friend before they can do their action.  \n",
    "\n",
    "So, Simon starts the game and says, \"Joel, do your action!\" Joel does his action. Then everyone waits 2 seconds.\n",
    "\n",
    "After 2 seconds, Simon says, \"Victoria, your turn!\" Victoria does her action. Then everyone waits another 2 seconds.\n",
    "\n",
    "This continues for John, Doe, and Sarah. Each one waits 2 seconds after the previous friend before doing their action."
   ]
  },
  {
   "cell_type": "markdown",
   "metadata": {},
   "source": [
    "###  Problem 2 Error Handling\n",
    "If an error occurs in one of the inner callbacks, it can be difficult to catch and handle that error properly.\n",
    "```\n",
    "setTimeout(() => { // Simon starts the game\n",
    "    console.log(\"Joel\"); // Joel does his action\n",
    "    setTimeout(() => { // Simon waits 2 seconds\n",
    "        // Victoria trips and falls (an error occurs)\n",
    "        throw new Error('Victoria tripped!'); \n",
    "        console.log(\"Victoria\"); // This line is never reached\n",
    "        // Rest of the game continues...\n",
    "    }, 2000);\n",
    "}, 2000);\n",
    "```\n",
    "In JavaScript, when an error is thrown inside a callback function and it's not caught, it can be hard to trace where the error came from, especially when there are multiple levels of nested callbacks. This is because each callback function has its own scope, and error handling needs to be implemented in each one of them."
   ]
  },
  {
   "cell_type": "markdown",
   "metadata": {},
   "source": []
  },
  {
   "cell_type": "markdown",
   "metadata": {},
   "source": [
    "###  Problem 3 Debugging\n",
    "If something goes wrong in your code, it can be hard to figure out where the problem is. The more callbacks you have, the more places there could be a problem because they depend on each other."
   ]
  },
  {
   "cell_type": "markdown",
   "metadata": {},
   "source": []
  },
  {
   "cell_type": "markdown",
   "metadata": {},
   "source": [
    "Ref:\n",
    "https://www.freecodecamp.org/news/top-javascript-concepts-to-know-before-learning-react/"
   ]
  }
 ],
 "metadata": {
  "kernelspec": {
   "display_name": "Deno",
   "language": "typescript",
   "name": "deno"
  },
  "language_info": {
   "codemirror_mode": "typescript",
   "file_extension": ".ts",
   "mimetype": "text/x.typescript",
   "name": "typescript",
   "nbconvert_exporter": "script",
   "pygments_lexer": "typescript",
   "version": "5.4.5"
  },
  "polyglot_notebook": {
   "kernelInfo": {
    "defaultKernelName": "csharp",
    "items": [
     {
      "aliases": [],
      "name": "csharp"
     },
     {
      "aliases": [],
      "languageName": "javascript",
      "name": "javascript"
     }
    ]
   }
  }
 },
 "nbformat": 4,
 "nbformat_minor": 2
}

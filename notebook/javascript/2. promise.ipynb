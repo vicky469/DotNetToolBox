{
 "cells": [
  {
   "cell_type": "markdown",
   "metadata": {},
   "source": [
    "A promise is an object that returns a value that you anticipate to see in the future but do not now see.\n",
    "\n",
    "3 states of the Promise object:\n",
    "\n",
    "1  Pending: Default initial State  \n",
    "2. Resolved: Completed Promise  \n",
    "3. Rejected: Failed Promise  \n",
    "\n",
    "\n",
    "```\n",
    "const promise = new Promise((resolve, reject) => {  \n",
    "    let condition;\n",
    "    \n",
    "    if(condition is met) {    \n",
    "        resolve('Promise is resolved successfully.');  \n",
    "    } else {    \n",
    "        reject('Promise is rejected');  \n",
    "    }\n",
    "});\n",
    "```"
   ]
  },
  {
   "cell_type": "code",
   "execution_count": null,
   "metadata": {
    "vscode": {
     "languageId": "plaintext"
    }
   },
   "outputs": [],
   "source": [
    "Re-implement the callback hell as a promise:\n",
    "```\n",
    "function addName (time, name){\n",
    "  return new Promise ((resolve, reject) => {\n",
    "    if(name){\n",
    "      setTimeout(()=>{\n",
    "        console.log(name)\n",
    "        resolve();\n",
    "      },time)\n",
    "    }else{\n",
    "      reject('No such name');\n",
    "    }\n",
    "  })\n",
    "}\n",
    "\n",
    "addName(2000, 'Joel')\n",
    "  .then(()=>addName(2000, 'Victoria'))\n",
    "  .then(()=>addName(2000, 'John'))\n",
    "  .then(()=>addName(2000, 'Doe'))\n",
    "  .then(()=>addName(2000, 'Sarah'))\n",
    "  .catch((err)=>console.log(err))\n",
    "```"
   ]
  },
  {
   "cell_type": "markdown",
   "metadata": {},
   "source": [
    "Ref:\n",
    "https://www.freecodecamp.org/news/top-javascript-concepts-to-know-before-learning-react/"
   ]
  }
 ],
 "metadata": {
  "language_info": {
   "name": "python"
  }
 },
 "nbformat": 4,
 "nbformat_minor": 2
}

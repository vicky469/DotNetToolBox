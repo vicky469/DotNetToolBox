{
 "cells": [
  {
   "cell_type": "markdown",
   "metadata": {},
   "source": [
    "### What is a Promise?"
   ]
  },
  {
   "cell_type": "markdown",
   "metadata": {},
   "source": [
    "A promise is an object that returns a value that you anticipate to see in the future but do not now see.\n",
    "\n",
    "3 states of the Promise object:\n",
    "\n",
    "1  Pending: Default initial State  \n",
    "2. Resolved: Completed Promise  \n",
    "3. Rejected: Failed Promise  \n",
    "\n",
    "<img src=\"https://www.freecodecamp.org/news/content/images/2020/06/Ekran-Resmi-2020-06-06-12.21.27.png\" alt=\"Image Description\" width=\"509\" height=\"285\">\n",
    "\n",
    "if there are multiple requests, then after the first Promise is resolved (or rejected), a new process will start to which we can attach it directly by a method called chaining."
   ]
  },
  {
   "cell_type": "markdown",
   "metadata": {},
   "source": [
    "```\n",
    "const promise = new Promise((resolve, reject) => {  \n",
    "    let condition;\n",
    "    \n",
    "    if(condition is met) {    \n",
    "        resolve('Promise is resolved successfully.');  \n",
    "    } else {    \n",
    "        reject('Promise is rejected');  \n",
    "    }\n",
    "});\n",
    "```"
   ]
  },
  {
   "cell_type": "markdown",
   "metadata": {},
   "source": [
    "### What is the difference between Callbacks and Promises?"
   ]
  },
  {
   "cell_type": "markdown",
   "metadata": {},
   "source": [
    "Callbacks and Promises are both patterns for handling asynchronous operations in JavaScript, but they have some important differences:\n",
    "\n",
    "**Callbacks:**\n",
    "\n",
    "- Callbacks are functions that are passed as arguments to another function and are executed after some operation has been completed.\n",
    "- Callbacks can lead to \"callback hell\" or \"pyramid of doom\" due to multiple levels of nested callbacks, which can make the code hard to read and understand.\n",
    "- Error handling in callbacks is often done with error-first callbacks, where the first argument is an error object. This can lead to repetitive error handling code.\n",
    "\n",
    "Example of a callback:\n",
    "\n",
    "```javascript\n",
    "fs.readFile('file.txt', 'utf8', function(err, data) {\n",
    "  if (err) {\n",
    "    // handle error\n",
    "  } else {\n",
    "    console.log(data);\n",
    "  }\n",
    "});\n",
    "```\n",
    "\n",
    "**Promises:**\n",
    "\n",
    "- Promises represent the eventual completion or failure of an asynchronous operation and its resulting value.\n",
    "- Promises can be chained together, which can lead to cleaner, more readable code than nested callbacks.\n",
    "- Promises have built-in error handling with the `.catch()` method, which can handle errors from any step in the chain.\n",
    "\n",
    "Example of a promise:\n",
    "\n",
    "```javascript\n",
    "fetch('https://api.example.com/data')\n",
    "  .then(response => response.json())\n",
    "  .then(data => console.log(data))\n",
    "  .catch(error => console.error('Error:', error));\n",
    "```\n",
    "\n",
    "In general, Promises can make your code more readable and easier to reason about when dealing with complex sequences of asynchronous operations."
   ]
  },
  {
   "cell_type": "markdown",
   "metadata": {},
   "source": [
    "Re-implement the callback hell as a promise:\n",
    "```\n",
    "function addName (time, name){\n",
    "  return new Promise ((resolve, reject) => {\n",
    "    if(name){\n",
    "      setTimeout(()=>{\n",
    "        console.log(name)\n",
    "        resolve();\n",
    "      },time)\n",
    "    }else{\n",
    "      reject('No such name');\n",
    "    }\n",
    "  })\n",
    "}\n",
    "\n",
    "addName(2000, 'Joel')\n",
    "  .then(()=>addName(2000, 'Victoria'))\n",
    "  .then(()=>addName(2000, 'John'))\n",
    "  .then(()=>addName(2000, 'Doe'))\n",
    "  .then(()=>addName(2000, 'Sarah'))\n",
    "  .catch((err)=>console.log(err))\n",
    "```"
   ]
  },
  {
   "cell_type": "markdown",
   "metadata": {},
   "source": []
  },
  {
   "cell_type": "markdown",
   "metadata": {},
   "source": [
    "Ref:\n",
    "https://www.freecodecamp.org/news/top-javascript-concepts-to-know-before-learning-react/"
   ]
  }
 ],
 "metadata": {
  "kernelspec": {
   "display_name": "Deno",
   "language": "typescript",
   "name": "deno"
  },
  "language_info": {
   "name": "typescript"
  }
 },
 "nbformat": 4,
 "nbformat_minor": 2
}
